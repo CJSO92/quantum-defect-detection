{
  "cells": [
    {
      "cell_type": "code",
      "execution_count": 174,
      "metadata": {
        "colab": {
          "base_uri": "https://localhost:8080/"
        },
        "id": "OL1NvC-4zyz0",
        "outputId": "fecaacb6-c73e-429d-d5d2-2b09e960bc3f"
      },
      "outputs": [
        {
          "output_type": "stream",
          "name": "stdout",
          "text": [
            "Requirement already satisfied: pennylane in /usr/local/lib/python3.11/dist-packages (0.41.1)\n",
            "Requirement already satisfied: pennylane-lightning in /usr/local/lib/python3.11/dist-packages (0.41.1)\n",
            "Requirement already satisfied: scikit-learn in /usr/local/lib/python3.11/dist-packages (1.6.1)\n",
            "Requirement already satisfied: matplotlib in /usr/local/lib/python3.11/dist-packages (3.10.0)\n",
            "Requirement already satisfied: opencv-python in /usr/local/lib/python3.11/dist-packages (4.11.0.86)\n",
            "Requirement already satisfied: numpy in /usr/local/lib/python3.11/dist-packages (from pennylane) (2.0.2)\n",
            "Requirement already satisfied: scipy in /usr/local/lib/python3.11/dist-packages (from pennylane) (1.15.3)\n",
            "Requirement already satisfied: networkx in /usr/local/lib/python3.11/dist-packages (from pennylane) (3.5)\n",
            "Requirement already satisfied: rustworkx>=0.14.0 in /usr/local/lib/python3.11/dist-packages (from pennylane) (0.16.0)\n",
            "Requirement already satisfied: autograd in /usr/local/lib/python3.11/dist-packages (from pennylane) (1.8.0)\n",
            "Requirement already satisfied: tomlkit in /usr/local/lib/python3.11/dist-packages (from pennylane) (0.13.3)\n",
            "Requirement already satisfied: appdirs in /usr/local/lib/python3.11/dist-packages (from pennylane) (1.4.4)\n",
            "Requirement already satisfied: autoray>=0.6.11 in /usr/local/lib/python3.11/dist-packages (from pennylane) (0.7.1)\n",
            "Requirement already satisfied: cachetools in /usr/local/lib/python3.11/dist-packages (from pennylane) (5.5.2)\n",
            "Requirement already satisfied: requests in /usr/local/lib/python3.11/dist-packages (from pennylane) (2.32.3)\n",
            "Requirement already satisfied: typing-extensions in /usr/local/lib/python3.11/dist-packages (from pennylane) (4.14.0)\n",
            "Requirement already satisfied: packaging in /usr/local/lib/python3.11/dist-packages (from pennylane) (24.2)\n",
            "Requirement already satisfied: diastatic-malt in /usr/local/lib/python3.11/dist-packages (from pennylane) (2.15.2)\n",
            "Requirement already satisfied: scipy-openblas32>=0.3.26 in /usr/local/lib/python3.11/dist-packages (from pennylane-lightning) (0.3.30.0.0)\n",
            "Requirement already satisfied: joblib>=1.2.0 in /usr/local/lib/python3.11/dist-packages (from scikit-learn) (1.5.1)\n",
            "Requirement already satisfied: threadpoolctl>=3.1.0 in /usr/local/lib/python3.11/dist-packages (from scikit-learn) (3.6.0)\n",
            "Requirement already satisfied: contourpy>=1.0.1 in /usr/local/lib/python3.11/dist-packages (from matplotlib) (1.3.2)\n",
            "Requirement already satisfied: cycler>=0.10 in /usr/local/lib/python3.11/dist-packages (from matplotlib) (0.12.1)\n",
            "Requirement already satisfied: fonttools>=4.22.0 in /usr/local/lib/python3.11/dist-packages (from matplotlib) (4.58.4)\n",
            "Requirement already satisfied: kiwisolver>=1.3.1 in /usr/local/lib/python3.11/dist-packages (from matplotlib) (1.4.8)\n",
            "Requirement already satisfied: pillow>=8 in /usr/local/lib/python3.11/dist-packages (from matplotlib) (11.2.1)\n",
            "Requirement already satisfied: pyparsing>=2.3.1 in /usr/local/lib/python3.11/dist-packages (from matplotlib) (3.2.3)\n",
            "Requirement already satisfied: python-dateutil>=2.7 in /usr/local/lib/python3.11/dist-packages (from matplotlib) (2.9.0.post0)\n",
            "Requirement already satisfied: six>=1.5 in /usr/local/lib/python3.11/dist-packages (from python-dateutil>=2.7->matplotlib) (1.17.0)\n",
            "Requirement already satisfied: astunparse in /usr/local/lib/python3.11/dist-packages (from diastatic-malt->pennylane) (1.6.3)\n",
            "Requirement already satisfied: gast in /usr/local/lib/python3.11/dist-packages (from diastatic-malt->pennylane) (0.6.0)\n",
            "Requirement already satisfied: termcolor in /usr/local/lib/python3.11/dist-packages (from diastatic-malt->pennylane) (3.1.0)\n",
            "Requirement already satisfied: charset-normalizer<4,>=2 in /usr/local/lib/python3.11/dist-packages (from requests->pennylane) (3.4.2)\n",
            "Requirement already satisfied: idna<4,>=2.5 in /usr/local/lib/python3.11/dist-packages (from requests->pennylane) (3.10)\n",
            "Requirement already satisfied: urllib3<3,>=1.21.1 in /usr/local/lib/python3.11/dist-packages (from requests->pennylane) (2.4.0)\n",
            "Requirement already satisfied: certifi>=2017.4.17 in /usr/local/lib/python3.11/dist-packages (from requests->pennylane) (2025.6.15)\n",
            "Requirement already satisfied: wheel<1.0,>=0.23.0 in /usr/local/lib/python3.11/dist-packages (from astunparse->diastatic-malt->pennylane) (0.45.1)\n"
          ]
        }
      ],
      "source": [
        "# Cell 1\n",
        "!pip install pennylane pennylane-lightning scikit-learn matplotlib opencv-python"
      ]
    },
    {
      "cell_type": "code",
      "execution_count": 175,
      "metadata": {
        "id": "77lXUV2n0Bc-"
      },
      "outputs": [],
      "source": [
        "# Cell 2\n",
        "import os\n",
        "import random\n",
        "import numpy as np\n",
        "import cv2\n",
        "import matplotlib.pyplot as plt\n",
        "from sklearn.decomposition import PCA\n",
        "import pennylane as qml\n",
        "from pennylane import numpy as pnp\n",
        "\n",
        "random.seed(42)\n",
        "np.random.seed(42)\n",
        "pnp.random.seed(42)\n",
        "\n",
        "n_qubits = 4\n",
        "dev = qml.device(\"default.qubit\", wires=n_qubits, shots=None)  # Explicitly set shots"
      ]
    },
    {
      "cell_type": "code",
      "execution_count": 176,
      "metadata": {
        "colab": {
          "base_uri": "https://localhost:8080/"
        },
        "id": "aAnMCIjC0M3N",
        "outputId": "2e9579f3-8e15-4b44-df41-578b2e47e257"
      },
      "outputs": [
        {
          "output_type": "stream",
          "name": "stdout",
          "text": [
            "Drive already mounted at /content/drive; to attempt to forcibly remount, call drive.mount(\"/content/drive\", force_remount=True).\n"
          ]
        }
      ],
      "source": [
        "# Cell 3\n",
        "from google.colab import drive\n",
        "drive.mount('/content/drive')"
      ]
    },
    {
      "cell_type": "code",
      "execution_count": 177,
      "metadata": {
        "id": "LquShCkn1Aev"
      },
      "outputs": [],
      "source": [
        "# Cell 4\n",
        "from glob import glob\n",
        "\n",
        "def collect_images(category_root, image_size=(64, 64)):\n",
        "    train_good = glob(os.path.join(category_root, 'train', 'good', '*.png'))\n",
        "    test_good = glob(os.path.join(category_root, 'test', 'good', '*.png'))\n",
        "\n",
        "    defect_types = [d for d in os.listdir(os.path.join(category_root, 'test')) if d != 'good']\n",
        "    test_defects = []\n",
        "    for defect in defect_types:\n",
        "        defect_paths = glob(os.path.join(category_root, 'test', defect, '*.png'))\n",
        "        test_defects.extend(defect_paths)\n",
        "\n",
        "    X = []\n",
        "    y = []\n",
        "\n",
        "    # Label 0: Good\n",
        "    for path in train_good + test_good:\n",
        "        img = cv2.imread(path, cv2.IMREAD_GRAYSCALE)\n",
        "        img = cv2.resize(img, image_size)\n",
        "        X.append(img)\n",
        "        y.append(0)\n",
        "\n",
        "    # Label 1: Defective\n",
        "    for path in test_defects:\n",
        "        img = cv2.imread(path, cv2.IMREAD_GRAYSCALE)\n",
        "        img = cv2.resize(img, image_size)\n",
        "        X.append(img)\n",
        "        y.append(1)\n",
        "\n",
        "    return np.array(X), np.array(y)"
      ]
    },
    {
      "cell_type": "code",
      "source": [
        "# Cell 5 - Check class distribution in training and test sets\n",
        "print(\"Training set class distribution:\", np.bincount(y_train.astype(int)))\n",
        "print(\"Test set class distribution:\", np.bincount(y_test.astype(int)))"
      ],
      "metadata": {
        "colab": {
          "base_uri": "https://localhost:8080/"
        },
        "id": "PznALabsIbxe",
        "outputId": "e0fc1ff0-5616-4dce-ca29-9ee8f951b694"
      },
      "execution_count": 179,
      "outputs": [
        {
          "output_type": "stream",
          "name": "stdout",
          "text": [
            "Training set class distribution: [194 194]\n",
            "Test set class distribution: [48 19]\n"
          ]
        }
      ]
    },
    {
      "cell_type": "code",
      "execution_count": 180,
      "metadata": {
        "id": "l0LJaN6ka-Cx"
      },
      "outputs": [],
      "source": [
        "# Cell 6 – Unified Data Preparation for Any Object Category\n",
        "from sklearn.decomposition import PCA\n",
        "from sklearn.preprocessing import StandardScaler\n",
        "from sklearn.model_selection import train_test_split\n",
        "\n",
        "def prepare_object_data(category_path, image_size=(64, 64), n_components=4, test_size=0.2, seed=42):\n",
        "    \"\"\"\n",
        "    Loads images from the given MVTec AD object path, flattens, normalizes, reduces dimension via PCA,\n",
        "    standardizes features, splits into train/test, and converts to PyTorch tensors.\n",
        "\n",
        "    Returns:\n",
        "        X_train_torch, X_test_torch, y_train_torch, y_test_torch, y_test (raw numpy)\n",
        "    \"\"\"\n",
        "    # Step 1: Load and label images\n",
        "    X, y = collect_images(category_path, image_size=image_size)\n",
        "\n",
        "    # Step 2: Flatten and normalize image pixels\n",
        "    X_flat = X.reshape(len(X), -1) / 255.0\n",
        "\n",
        "    # Step 3: Reduce dimensionality for quantum encoding\n",
        "    pca = PCA(n_components=n_components)\n",
        "    X_reduced = pca.fit_transform(X_flat)\n",
        "\n",
        "    # Step 4: Split dataset\n",
        "    X_train, X_test, y_train, y_test = train_test_split(\n",
        "        X_reduced, y, test_size=test_size, random_state=seed, stratify=y\n",
        "    )\n",
        "\n",
        "    # Step 5: Standardize features\n",
        "    scaler = StandardScaler()\n",
        "    X_train_std = scaler.fit_transform(X_train)\n",
        "    X_test_std = scaler.transform(X_test)\n",
        "\n",
        "    # Step 6: Convert to PyTorch tensors\n",
        "    X_train_torch = torch.tensor(X_train_std, dtype=torch.float32)\n",
        "    X_test_torch = torch.tensor(X_test_std, dtype=torch.float32)\n",
        "    y_train_torch = torch.tensor(y_train, dtype=torch.float32).unsqueeze(1)\n",
        "    y_test_torch = torch.tensor(y_test, dtype=torch.float32)\n",
        "\n",
        "    return X_train_torch, X_test_torch, y_train_torch, y_test_torch, y_test  # Return y_test for sklearn eval"
      ]
    },
    {
      "cell_type": "code",
      "source": [
        "# Cell 6.5\n",
        "from sklearn.utils import resample\n",
        "\n",
        "def balance_classes(X, y):\n",
        "    X = np.array(X)\n",
        "    y = np.array(y).flatten()  # Ensure y is 1D\n",
        "\n",
        "    X_0 = X[y == 0]\n",
        "    X_1 = X[y == 1]\n",
        "\n",
        "    if len(X_0) == 0 or len(X_1) == 0:\n",
        "        return X, y  # nothing to balance\n",
        "\n",
        "    if len(X_0) > len(X_1):\n",
        "        X_1_up = resample(X_1, replace=True, n_samples=len(X_0), random_state=42)\n",
        "        y_1_up = np.ones(len(X_0))\n",
        "        X_bal = np.vstack([X_0, X_1_up])\n",
        "        y_bal = np.hstack([np.zeros(len(X_0)), y_1_up])\n",
        "    else:\n",
        "        X_0_up = resample(X_0, replace=True, n_samples=len(X_1), random_state=42)\n",
        "        y_0_up = np.zeros(len(X_1))\n",
        "        X_bal = np.vstack([X_0_up, X_1])\n",
        "        y_bal = np.hstack([y_0_up, np.ones(len(X_1))])\n",
        "\n",
        "    return X_bal, y_bal"
      ],
      "metadata": {
        "id": "tJ8OkqsFcEPK"
      },
      "execution_count": 181,
      "outputs": []
    },
    {
      "cell_type": "code",
      "execution_count": 182,
      "metadata": {
        "id": "kSr3UE7D6j2t"
      },
      "outputs": [],
      "source": [
        "# Cell 7 – Load and Prepare Data for Metal Nut\n",
        "category_path = \"/content/drive/MyDrive/Colab Notebooks/metal_nut\"\n",
        "X_train_torch, X_test_torch, y_train_torch, y_test_torch, y_test = prepare_object_data(category_path)"
      ]
    },
    {
      "cell_type": "code",
      "execution_count": 183,
      "metadata": {
        "id": "fHUq5JKH8Foj"
      },
      "outputs": [],
      "source": [
        "# Cell 8\n",
        "@qml.qnode(dev)\n",
        "def quantum_circuit(x, weights):\n",
        "    x = pnp.array(x, requires_grad=False)\n",
        "    qml.AngleEmbedding(x, wires=range(n_qubits), rotation='Y')\n",
        "    for i in range(len(weights)):\n",
        "        for j in range(n_qubits):\n",
        "            qml.Rot(*weights[i][j], wires=j)\n",
        "        for j in range(n_qubits - 1):\n",
        "            qml.CNOT(wires=[j, j+1])\n",
        "    return qml.expval(qml.PauliZ(0))\n",
        "\n",
        "def pad_features(x, target_len=4):\n",
        "    x = np.array(x)\n",
        "    if len(x) < target_len:\n",
        "        return np.pad(x, (0, target_len - len(x)), mode='constant')\n",
        "    elif len(x) > target_len:\n",
        "        return x[:target_len]\n",
        "    return x\n",
        "# NOTE: Consider PCA or feature selection instead of truncating input."
      ]
    },
    {
      "cell_type": "code",
      "execution_count": 184,
      "metadata": {
        "colab": {
          "base_uri": "https://localhost:8080/"
        },
        "id": "-g4cjBYK88vd",
        "outputId": "b9b8ddda-bf75-43f0-fe0d-140aeb648afe"
      },
      "outputs": [
        {
          "output_type": "stream",
          "name": "stdout",
          "text": [
            "Sample raw outputs: [tensor(0.93717894, requires_grad=True), tensor(-0.58202989, requires_grad=True), tensor(-0.68561706, requires_grad=True), tensor(-0.91132525, requires_grad=True), tensor(-0.60403792, requires_grad=True), tensor(0.44709576, requires_grad=True), tensor(-0.39819518, requires_grad=True), tensor(0.13017063, requires_grad=True), tensor(0.93717894, requires_grad=True), tensor(-0.93544522, requires_grad=True)]\n"
          ]
        }
      ],
      "source": [
        "# Cell 9 (diagnostic cell)\n",
        "weights = pnp.random.randn(1, n_qubits, 3, requires_grad=True)\n",
        "sample_outputs = [quantum_circuit(pad_features(x), weights) for x in X_train[:10]]\n",
        "print(\"Sample raw outputs:\", sample_outputs)"
      ]
    },
    {
      "cell_type": "code",
      "execution_count": 185,
      "metadata": {
        "colab": {
          "base_uri": "https://localhost:8080/",
          "height": 472
        },
        "id": "R7Nfi_cMAX_v",
        "outputId": "94785b27-9179-44c4-84b2-27040a0c5cad"
      },
      "outputs": [
        {
          "output_type": "display_data",
          "data": {
            "text/plain": [
              "<Figure size 640x480 with 1 Axes>"
            ],
            "image/png": "[encoded data removed]"
          },
          "metadata": {}
        }
      ],
      "source": [
        "# Cell 10\n",
        "outputs = [quantum_circuit(pad_features(x), weights) for x in X_train]\n",
        "outputs = [float(o) for o in outputs]\n",
        "\n",
        "plt.hist(outputs, bins=20)\n",
        "plt.title(\"Quantum Circuit Outputs on X_train\")\n",
        "plt.xlabel(\"Output value\")\n",
        "plt.ylabel(\"Frequency\")\n",
        "plt.grid(True)\n",
        "plt.show()"
      ]
    },
    {
      "cell_type": "code",
      "execution_count": 186,
      "metadata": {
        "colab": {
          "base_uri": "https://localhost:8080/"
        },
        "id": "WHt49PkBAx6Q",
        "outputId": "da5eb161-6d5e-4806-9ca1-59963469605c"
      },
      "outputs": [
        {
          "output_type": "stream",
          "name": "stdout",
          "text": [
            "[VQC-1] Epoch 1: Loss = 0.7184, Accuracy = 0.500\n",
            "[VQC-1] Epoch 2: Loss = 0.6989, Accuracy = 0.500\n",
            "[VQC-1] Epoch 3: Loss = 0.6818, Accuracy = 0.505\n",
            "[VQC-1] Epoch 4: Loss = 0.6674, Accuracy = 0.588\n",
            "[VQC-1] Epoch 5: Loss = 0.6544, Accuracy = 0.621\n",
            "[VQC-1] Epoch 6: Loss = 0.6442, Accuracy = 0.647\n",
            "[VQC-1] Epoch 7: Loss = 0.6359, Accuracy = 0.673\n",
            "[VQC-1] Epoch 8: Loss = 0.6288, Accuracy = 0.706\n",
            "[VQC-1] Epoch 9: Loss = 0.6246, Accuracy = 0.693\n",
            "[VQC-1] Epoch 10: Loss = 0.6194, Accuracy = 0.701\n",
            "[VQC-1] Epoch 11: Loss = 0.6150, Accuracy = 0.729\n",
            "[VQC-1] Epoch 12: Loss = 0.6102, Accuracy = 0.714\n",
            "[VQC-1] Epoch 13: Loss = 0.6041, Accuracy = 0.719\n",
            "[VQC-1] Epoch 14: Loss = 0.5995, Accuracy = 0.714\n",
            "[VQC-1] Epoch 15: Loss = 0.5942, Accuracy = 0.719\n",
            "[VQC-1] Training time: 0.88 seconds\n"
          ]
        }
      ],
      "source": [
        "# Cell 11\n",
        "import time\n",
        "import torch\n",
        "import torch.nn as nn\n",
        "import torch.optim as optim\n",
        "from pennylane.qnn import TorchLayer\n",
        "from sklearn.metrics import classification_report\n",
        "from sklearn.preprocessing import StandardScaler\n",
        "\n",
        "# Define shared training function\n",
        "def train_model(model, X, y, epochs=15, lr=0.1, name=\"QuantumModel\"):\n",
        "    optimizer = optim.Adam(model.parameters(), lr=lr)\n",
        "    loss_fn = nn.BCELoss()\n",
        "    start = time.time()\n",
        "\n",
        "    for epoch in range(epochs):\n",
        "        optimizer.zero_grad()\n",
        "        y_pred = model(X)\n",
        "        loss = loss_fn(y_pred, y)\n",
        "        loss.backward()\n",
        "        optimizer.step()\n",
        "        acc = ((y_pred > 0.5).float() == y).float().mean()\n",
        "        print(f\"[{name}] Epoch {epoch+1}: Loss = {loss.item():.4f}, Accuracy = {acc.item():.3f}\")\n",
        "\n",
        "    print(f\"[{name}] Training time: {time.time() - start:.2f} seconds\")\n",
        "\n",
        "# Standardize again\n",
        "scaler = StandardScaler()\n",
        "X_train_std = scaler.fit_transform(X_train)\n",
        "X_test_std = scaler.transform(X_test)\n",
        "\n",
        "X_train_torch = torch.tensor(X_train_std, dtype=torch.float32)\n",
        "X_test_torch = torch.tensor(X_test_std, dtype=torch.float32)\n",
        "y_train_torch = torch.tensor(y_train, dtype=torch.float32).unsqueeze(1)\n",
        "y_test_torch = torch.tensor(y_test, dtype=torch.float32)\n",
        "\n",
        "# QNode\n",
        "n_layers = 5\n",
        "weight_shapes = {\"weights\": (n_layers, n_qubits, 3)}\n",
        "dev = qml.device(\"default.qubit\", wires=n_qubits, shots=None)  # Explicitly set shots\n",
        "\n",
        "@qml.qnode(dev, interface=\"torch\")\n",
        "def qnode(inputs, weights):\n",
        "    qml.AngleEmbedding(inputs, wires=range(n_qubits))\n",
        "    qml.StronglyEntanglingLayers(weights, wires=range(n_qubits))\n",
        "    return qml.expval(qml.PauliZ(0))\n",
        "\n",
        "qlayer = TorchLayer(qnode, weight_shapes)\n",
        "\n",
        "class HybridClassifier(nn.Module):\n",
        "    def __init__(self):\n",
        "        super().__init__()\n",
        "        self.quantum = qlayer\n",
        "        self.fc = nn.Sequential(\n",
        "            nn.Linear(1, 1),\n",
        "            nn.Sigmoid()\n",
        "        )\n",
        "\n",
        "    def forward(self, x):\n",
        "        x = self.quantum(x)\n",
        "        return self.fc(x.unsqueeze(1))\n",
        "\n",
        "# Train VQC-1\n",
        "model = HybridClassifier()\n",
        "train_model(model, X_train_torch, y_train_torch, name=\"VQC-1\")"
      ]
    },
    {
      "cell_type": "code",
      "execution_count": 201,
      "metadata": {
        "colab": {
          "base_uri": "https://localhost:8080/"
        },
        "id": "oA1rSSqybDCD",
        "outputId": "bf9b9904-b283-48f9-8d2c-dfdd32685f62"
      },
      "outputs": [
        {
          "output_type": "stream",
          "name": "stdout",
          "text": [
            "\n",
            "================== METAL_NUT ==================\n",
            "[VQC-1 (metal_nut)] Epoch 1: Loss = 0.7138, Accuracy = 0.500\n",
            "[VQC-1 (metal_nut)] Epoch 2: Loss = 0.6748, Accuracy = 0.536\n",
            "[VQC-1 (metal_nut)] Epoch 3: Loss = 0.6559, Accuracy = 0.606\n",
            "[VQC-1 (metal_nut)] Epoch 4: Loss = 0.6403, Accuracy = 0.660\n",
            "[VQC-1 (metal_nut)] Epoch 5: Loss = 0.6245, Accuracy = 0.711\n",
            "[VQC-1 (metal_nut)] Epoch 6: Loss = 0.6169, Accuracy = 0.724\n",
            "[VQC-1 (metal_nut)] Epoch 7: Loss = 0.6105, Accuracy = 0.719\n",
            "[VQC-1 (metal_nut)] Epoch 8: Loss = 0.6015, Accuracy = 0.709\n",
            "[VQC-1 (metal_nut)] Epoch 9: Loss = 0.5955, Accuracy = 0.688\n",
            "[VQC-1 (metal_nut)] Epoch 10: Loss = 0.5883, Accuracy = 0.729\n",
            "[VQC-1 (metal_nut)] Epoch 11: Loss = 0.5833, Accuracy = 0.727\n",
            "[VQC-1 (metal_nut)] Epoch 12: Loss = 0.5775, Accuracy = 0.732\n",
            "[VQC-1 (metal_nut)] Epoch 13: Loss = 0.5727, Accuracy = 0.680\n",
            "[VQC-1 (metal_nut)] Epoch 14: Loss = 0.5694, Accuracy = 0.675\n",
            "[VQC-1 (metal_nut)] Epoch 15: Loss = 0.5639, Accuracy = 0.701\n",
            "[VQC-1 (metal_nut)] Training time: 1.30 seconds\n",
            "\n",
            "[metal_nut] Test Set Evaluation:\n",
            "              precision    recall  f1-score   support\n",
            "\n",
            "           0       0.80      0.75      0.77        48\n",
            "           1       0.45      0.53      0.49        19\n",
            "\n",
            "    accuracy                           0.69        67\n",
            "   macro avg       0.63      0.64      0.63        67\n",
            "weighted avg       0.70      0.69      0.69        67\n",
            "\n",
            "\n",
            "================== TRANSISTOR ==================\n",
            "[VQC-1 (transistor)] Epoch 1: Loss = 0.7159, Accuracy = 0.500\n",
            "[VQC-1 (transistor)] Epoch 2: Loss = 0.7010, Accuracy = 0.500\n",
            "[VQC-1 (transistor)] Epoch 3: Loss = 0.6850, Accuracy = 0.500\n",
            "[VQC-1 (transistor)] Epoch 4: Loss = 0.6700, Accuracy = 0.583\n",
            "[VQC-1 (transistor)] Epoch 5: Loss = 0.6554, Accuracy = 0.686\n",
            "[VQC-1 (transistor)] Epoch 6: Loss = 0.6419, Accuracy = 0.718\n",
            "[VQC-1 (transistor)] Epoch 7: Loss = 0.6295, Accuracy = 0.739\n",
            "[VQC-1 (transistor)] Epoch 8: Loss = 0.6179, Accuracy = 0.727\n",
            "[VQC-1 (transistor)] Epoch 9: Loss = 0.6070, Accuracy = 0.729\n",
            "[VQC-1 (transistor)] Epoch 10: Loss = 0.5967, Accuracy = 0.727\n",
            "[VQC-1 (transistor)] Epoch 11: Loss = 0.5864, Accuracy = 0.755\n",
            "[VQC-1 (transistor)] Epoch 12: Loss = 0.5750, Accuracy = 0.771\n",
            "[VQC-1 (transistor)] Epoch 13: Loss = 0.5646, Accuracy = 0.755\n",
            "[VQC-1 (transistor)] Epoch 14: Loss = 0.5546, Accuracy = 0.752\n",
            "[VQC-1 (transistor)] Epoch 15: Loss = 0.5454, Accuracy = 0.752\n",
            "[VQC-1 (transistor)] Training time: 1.01 seconds\n",
            "\n",
            "[transistor] Test Set Evaluation:\n",
            "              precision    recall  f1-score   support\n",
            "\n",
            "           0       1.00      0.73      0.84        55\n",
            "           1       0.35      1.00      0.52         8\n",
            "\n",
            "    accuracy                           0.76        63\n",
            "   macro avg       0.67      0.86      0.68        63\n",
            "weighted avg       0.92      0.76      0.80        63\n",
            "\n",
            "\n",
            "================== CABLE ==================\n",
            "[VQC-1 (cable)] Epoch 1: Loss = 0.7013, Accuracy = 0.500\n",
            "[VQC-1 (cable)] Epoch 2: Loss = 0.6856, Accuracy = 0.549\n",
            "[VQC-1 (cable)] Epoch 3: Loss = 0.6722, Accuracy = 0.582\n",
            "[VQC-1 (cable)] Epoch 4: Loss = 0.6617, Accuracy = 0.638\n",
            "[VQC-1 (cable)] Epoch 5: Loss = 0.6534, Accuracy = 0.658\n",
            "[VQC-1 (cable)] Epoch 6: Loss = 0.6446, Accuracy = 0.669\n",
            "[VQC-1 (cable)] Epoch 7: Loss = 0.6371, Accuracy = 0.693\n",
            "[VQC-1 (cable)] Epoch 8: Loss = 0.6301, Accuracy = 0.689\n",
            "[VQC-1 (cable)] Epoch 9: Loss = 0.6227, Accuracy = 0.689\n",
            "[VQC-1 (cable)] Epoch 10: Loss = 0.6161, Accuracy = 0.687\n",
            "[VQC-1 (cable)] Epoch 11: Loss = 0.6105, Accuracy = 0.716\n",
            "[VQC-1 (cable)] Epoch 12: Loss = 0.6053, Accuracy = 0.700\n",
            "[VQC-1 (cable)] Epoch 13: Loss = 0.5998, Accuracy = 0.698\n",
            "[VQC-1 (cable)] Epoch 14: Loss = 0.5943, Accuracy = 0.704\n",
            "[VQC-1 (cable)] Epoch 15: Loss = 0.5885, Accuracy = 0.713\n",
            "[VQC-1 (cable)] Training time: 0.97 seconds\n",
            "\n",
            "[cable] Test Set Evaluation:\n",
            "              precision    recall  f1-score   support\n",
            "\n",
            "           0       0.81      0.67      0.73        57\n",
            "           1       0.32      0.50      0.39        18\n",
            "\n",
            "    accuracy                           0.63        75\n",
            "   macro avg       0.56      0.58      0.56        75\n",
            "weighted avg       0.69      0.63      0.65        75\n",
            "\n",
            "\n",
            "================== GRID ==================\n",
            "[VQC-1 (grid)] Epoch 1: Loss = 0.7251, Accuracy = 0.482\n",
            "[VQC-1 (grid)] Epoch 2: Loss = 0.6805, Accuracy = 0.548\n",
            "[VQC-1 (grid)] Epoch 3: Loss = 0.6705, Accuracy = 0.687\n",
            "[VQC-1 (grid)] Epoch 4: Loss = 0.6724, Accuracy = 0.650\n",
            "[VQC-1 (grid)] Epoch 5: Loss = 0.6734, Accuracy = 0.652\n",
            "[VQC-1 (grid)] Epoch 6: Loss = 0.6689, Accuracy = 0.678\n",
            "[VQC-1 (grid)] Epoch 7: Loss = 0.6602, Accuracy = 0.683\n",
            "[VQC-1 (grid)] Epoch 8: Loss = 0.6514, Accuracy = 0.685\n",
            "[VQC-1 (grid)] Epoch 9: Loss = 0.6444, Accuracy = 0.685\n",
            "[VQC-1 (grid)] Epoch 10: Loss = 0.6379, Accuracy = 0.703\n",
            "[VQC-1 (grid)] Epoch 11: Loss = 0.6313, Accuracy = 0.709\n",
            "[VQC-1 (grid)] Epoch 12: Loss = 0.6251, Accuracy = 0.709\n",
            "[VQC-1 (grid)] Epoch 13: Loss = 0.6197, Accuracy = 0.711\n",
            "[VQC-1 (grid)] Epoch 14: Loss = 0.6139, Accuracy = 0.711\n",
            "[VQC-1 (grid)] Epoch 15: Loss = 0.6072, Accuracy = 0.722\n",
            "[VQC-1 (grid)] Training time: 1.33 seconds\n",
            "\n",
            "[grid] Test Set Evaluation:\n",
            "              precision    recall  f1-score   support\n",
            "\n",
            "           0       0.88      0.40      0.55        58\n",
            "           1       0.19      0.73      0.30        11\n",
            "\n",
            "    accuracy                           0.45        69\n",
            "   macro avg       0.54      0.56      0.42        69\n",
            "weighted avg       0.77      0.45      0.51        69\n",
            "\n",
            "\n",
            "=== METAL_NUT ===\n",
            "Predicted label distribution: [14 53]\n",
            "True label distribution: [48 19]\n",
            "Sample raw outputs: [0.28131166 0.2998072  0.7731887  0.38524    0.68966913]\n",
            "\n",
            "=== TRANSISTOR ===\n",
            "Predicted label distribution: [12 51]\n",
            "True label distribution: [55  8]\n",
            "Sample raw outputs: [0.59950614 0.23325305 0.22769816 0.19826142 0.559488  ]\n",
            "\n",
            "=== CABLE ===\n",
            "Predicted label distribution: [12 63]\n",
            "True label distribution: [57 18]\n",
            "Sample raw outputs: [0.65081954 0.2453261  0.60618037 0.44708344 0.2492619 ]\n",
            "\n",
            "=== GRID ===\n",
            "Predicted label distribution: [13 56]\n",
            "True label distribution: [58 11]\n",
            "Sample raw outputs: [0.613171   0.5978583  0.66048133 0.40399778 0.4285277 ]\n"
          ]
        }
      ],
      "source": [
        "# Cell 12 – Loop over all objects using VQC-1\n",
        "\n",
        "object_names = [\"metal_nut\", \"transistor\", \"cable\", \"grid\"]\n",
        "base_path = \"/content/drive/MyDrive/Colab Notebooks\"\n",
        "\n",
        "results = []\n",
        "all_preds = {}  # Store predictions per object\n",
        "all_truths = {}\n",
        "\n",
        "for obj in object_names:\n",
        "    print(f\"\\n================== {obj.upper()} ==================\")\n",
        "    path = os.path.join(base_path, obj)\n",
        "\n",
        "    # Load data for the current object\n",
        "    X_train_obj, X_test_obj, y_train_obj, y_test_torch_obj, y_test_obj = prepare_object_data(path)\n",
        "\n",
        "    # Balance the training set for this object\n",
        "    X_train_obj, y_train_obj = balance_classes(X_train_obj, y_train_obj)\n",
        "    X_train_torch = torch.tensor(X_train_obj, dtype=torch.float32)\n",
        "    y_train_torch = torch.tensor(y_train_obj, dtype=torch.float32).unsqueeze(1)\n",
        "\n",
        "    # Train model\n",
        "    model = HybridClassifier()\n",
        "    train_model(model, X_train_torch, y_train_torch, name=f\"VQC-1 ({obj})\")\n",
        "\n",
        "    # Evaluate on test set\n",
        "    X_test_torch = X_test_obj.clone().detach().float() if isinstance(X_test_obj, torch.Tensor) else torch.tensor(X_test_obj, dtype=torch.float32)\n",
        "    with torch.no_grad():\n",
        "        y_pred_test = model(X_test_torch).squeeze().detach().numpy()\n",
        "        threshold = 0.5\n",
        "        y_pred_label = (y_pred_test > threshold).astype(int)\n",
        "\n",
        "    print(f\"\\n[{obj}] Test Set Evaluation:\")\n",
        "    report = classification_report(y_test_obj, y_pred_label, output_dict=True)\n",
        "    print(classification_report(y_test_obj, y_pred_label))\n",
        "\n",
        "    # Store predictions and true labels\n",
        "    all_preds[obj] = y_pred_test\n",
        "    all_truths[obj] = y_test_obj\n",
        "\n",
        "    results.append({\n",
        "        \"object\": obj,\n",
        "        \"accuracy\": report[\"accuracy\"],\n",
        "        \"f1_defect\": report[\"1\"][\"f1-score\"],\n",
        "        \"recall_defect\": report[\"1\"][\"recall\"],\n",
        "        \"precision_defect\": report[\"1\"][\"precision\"]\n",
        "    })\n",
        "\n",
        "# Diagnostic printout: label distributions and sample outputs per object\n",
        "for obj in object_names:\n",
        "    y_pred_raw = all_preds[obj]\n",
        "    y_true = all_truths[obj]\n",
        "\n",
        "    print(f\"\\n=== {obj.upper()} ===\")\n",
        "    print(\"Predicted label distribution:\", np.bincount((y_pred_raw > 0.3).astype(int)))\n",
        "    print(\"True label distribution:\", np.bincount(y_true))\n",
        "    print(\"Sample raw outputs:\", y_pred_raw[:5])"
      ]
    },
    {
      "cell_type": "code",
      "execution_count": 188,
      "metadata": {
        "colab": {
          "base_uri": "https://localhost:8080/",
          "height": 192
        },
        "id": "9khGOpazbCmm",
        "outputId": "4ce52c4f-861d-4202-a4da-7d973ae7413b"
      },
      "outputs": [
        {
          "output_type": "stream",
          "name": "stdout",
          "text": [
            "Summary of VQC-1 Performance by Object:\n"
          ]
        },
        {
          "output_type": "display_data",
          "data": {
            "text/plain": [
              "       object  accuracy  precision_defect  recall_defect  f1_defect\n",
              "0       cable     0.387             0.274          0.944      0.425\n",
              "1        grid     0.449             0.171          0.636      0.269\n",
              "2   metal_nut     0.701             0.478          0.579      0.524\n",
              "3  transistor     0.714             0.308          1.000      0.471"
            ],
            "text/html": [
              "\n",
              "  <div id=\"df-c5b39b3b-3597-4108-ba7a-c835cf0c6a1a\" class=\"colab-df-container\">\n",
              "    <div>\n",
              "<style scoped>\n",
              "    .dataframe tbody tr th:only-of-type {\n",
              "        vertical-align: middle;\n",
              "    }\n",
              "\n",
              "    .dataframe tbody tr th {\n",
              "        vertical-align: top;\n",
              "    }\n",
              "\n",
              "    .dataframe thead th {\n",
              "        text-align: right;\n",
              "    }\n",
              "</style>\n",
              "<table border=\"1\" class=\"dataframe\">\n",
              "  <thead>\n",
              "    <tr style=\"text-align: right;\">\n",
              "      <th></th>\n",
              "      <th>object</th>\n",
              "      <th>accuracy</th>\n",
              "      <th>precision_defect</th>\n",
              "      <th>recall_defect</th>\n",
              "      <th>f1_defect</th>\n",
              "    </tr>\n",
              "  </thead>\n",
              "  <tbody>\n",
              "    <tr>\n",
              "      <th>0</th>\n",
              "      <td>cable</td>\n",
              "      <td>0.387</td>\n",
              "      <td>0.274</td>\n",
              "      <td>0.944</td>\n",
              "      <td>0.425</td>\n",
              "    </tr>\n",
              "    <tr>\n",
              "      <th>1</th>\n",
              "      <td>grid</td>\n",
              "      <td>0.449</td>\n",
              "      <td>0.171</td>\n",
              "      <td>0.636</td>\n",
              "      <td>0.269</td>\n",
              "    </tr>\n",
              "    <tr>\n",
              "      <th>2</th>\n",
              "      <td>metal_nut</td>\n",
              "      <td>0.701</td>\n",
              "      <td>0.478</td>\n",
              "      <td>0.579</td>\n",
              "      <td>0.524</td>\n",
              "    </tr>\n",
              "    <tr>\n",
              "      <th>3</th>\n",
              "      <td>transistor</td>\n",
              "      <td>0.714</td>\n",
              "      <td>0.308</td>\n",
              "      <td>1.000</td>\n",
              "      <td>0.471</td>\n",
              "    </tr>\n",
              "  </tbody>\n",
              "</table>\n",
              "</div>\n",
              "    <div class=\"colab-df-buttons\">\n",
              "\n",
              "  <div class=\"colab-df-container\">\n",
              "    <button class=\"colab-df-convert\" onclick=\"convertToInteractive('df-c5b39b3b-3597-4108-ba7a-c835cf0c6a1a')\"\n",
              "            title=\"Convert this dataframe to an interactive table.\"\n",
              "            style=\"display:none;\">\n",
              "\n",
              "  <svg xmlns=\"http://www.w3.org/2000/svg\" height=\"24px\" viewBox=\"0 -960 960 960\">\n",
              "    <path d=\"M120-120v-720h720v720H120Zm60-500h600v-160H180v160Zm220 220h160v-160H400v160Zm0 220h160v-160H400v160ZM180-400h160v-160H180v160Zm440 0h160v-160H620v160ZM180-180h160v-160H180v160Zm440 0h160v-160H620v160Z\"/>\n",
              "  </svg>\n",
              "    </button>\n",
              "\n",
              "  <style>\n",
              "    .colab-df-container {\n",
              "      display:flex;\n",
              "      gap: 12px;\n",
              "    }\n",
              "\n",
              "    .colab-df-convert {\n",
              "      background-color: #E8F0FE;\n",
              "      border: none;\n",
              "      border-radius: 50%;\n",
              "      cursor: pointer;\n",
              "      display: none;\n",
              "      fill: #1967D2;\n",
              "      height: 32px;\n",
              "      padding: 0 0 0 0;\n",
              "      width: 32px;\n",
              "    }\n",
              "\n",
              "    .colab-df-convert:hover {\n",
              "      background-color: #E2EBFA;\n",
              "      box-shadow: 0px 1px 2px rgba(60, 64, 67, 0.3), 0px 1px 3px 1px rgba(60, 64, 67, 0.15);\n",
              "      fill: #174EA6;\n",
              "    }\n",
              "\n",
              "    .colab-df-buttons div {\n",
              "      margin-bottom: 4px;\n",
              "    }\n",
              "\n",
              "    [theme=dark] .colab-df-convert {\n",
              "      background-color: #3B4455;\n",
              "      fill: #D2E3FC;\n",
              "    }\n",
              "\n",
              "    [theme=dark] .colab-df-convert:hover {\n",
              "      background-color: #434B5C;\n",
              "      box-shadow: 0px 1px 3px 1px rgba(0, 0, 0, 0.15);\n",
              "      filter: drop-shadow(0px 1px 2px rgba(0, 0, 0, 0.3));\n",
              "      fill: #FFFFFF;\n",
              "    }\n",
              "  </style>\n",
              "\n",
              "    <script>\n",
              "      const buttonEl =\n",
              "        document.querySelector('#df-c5b39b3b-3597-4108-ba7a-c835cf0c6a1a button.colab-df-convert');\n",
              "      buttonEl.style.display =\n",
              "        google.colab.kernel.accessAllowed ? 'block' : 'none';\n",
              "\n",
              "      async function convertToInteractive(key) {\n",
              "        const element = document.querySelector('#df-c5b39b3b-3597-4108-ba7a-c835cf0c6a1a');\n",
              "        const dataTable =\n",
              "          await google.colab.kernel.invokeFunction('convertToInteractive',\n",
              "                                                    [key], {});\n",
              "        if (!dataTable) return;\n",
              "\n",
              "        const docLinkHtml = 'Like what you see? Visit the ' +\n",
              "          '<a target=\"_blank\" href=https://colab.research.google.com/notebooks/data_table.ipynb>data table notebook</a>'\n",
              "          + ' to learn more about interactive tables.';\n",
              "        element.innerHTML = '';\n",
              "        dataTable['output_type'] = 'display_data';\n",
              "        await google.colab.output.renderOutput(dataTable, element);\n",
              "        const docLink = document.createElement('div');\n",
              "        docLink.innerHTML = docLinkHtml;\n",
              "        element.appendChild(docLink);\n",
              "      }\n",
              "    </script>\n",
              "  </div>\n",
              "\n",
              "\n",
              "    <div id=\"df-338ffa76-9e38-47b0-9893-57c0e19e4083\">\n",
              "      <button class=\"colab-df-quickchart\" onclick=\"quickchart('df-338ffa76-9e38-47b0-9893-57c0e19e4083')\"\n",
              "                title=\"Suggest charts\"\n",
              "                style=\"display:none;\">\n",
              "\n",
              "<svg xmlns=\"http://www.w3.org/2000/svg\" height=\"24px\"viewBox=\"0 0 24 24\"\n",
              "     width=\"24px\">\n",
              "    <g>\n",
              "        <path d=\"M19 3H5c-1.1 0-2 .9-2 2v14c0 1.1.9 2 2 2h14c1.1 0 2-.9 2-2V5c0-1.1-.9-2-2-2zM9 17H7v-7h2v7zm4 0h-2V7h2v10zm4 0h-2v-4h2v4z\"/>\n",
              "    </g>\n",
              "</svg>\n",
              "      </button>\n",
              "\n",
              "<style>\n",
              "  .colab-df-quickchart {\n",
              "      --bg-color: #E8F0FE;\n",
              "      --fill-color: #1967D2;\n",
              "      --hover-bg-color: #E2EBFA;\n",
              "      --hover-fill-color: #174EA6;\n",
              "      --disabled-fill-color: #AAA;\n",
              "      --disabled-bg-color: #DDD;\n",
              "  }\n",
              "\n",
              "  [theme=dark] .colab-df-quickchart {\n",
              "      --bg-color: #3B4455;\n",
              "      --fill-color: #D2E3FC;\n",
              "      --hover-bg-color: #434B5C;\n",
              "      --hover-fill-color: #FFFFFF;\n",
              "      --disabled-bg-color: #3B4455;\n",
              "      --disabled-fill-color: #666;\n",
              "  }\n",
              "\n",
              "  .colab-df-quickchart {\n",
              "    background-color: var(--bg-color);\n",
              "    border: none;\n",
              "    border-radius: 50%;\n",
              "    cursor: pointer;\n",
              "    display: none;\n",
              "    fill: var(--fill-color);\n",
              "    height: 32px;\n",
              "    padding: 0;\n",
              "    width: 32px;\n",
              "  }\n",
              "\n",
              "  .colab-df-quickchart:hover {\n",
              "    background-color: var(--hover-bg-color);\n",
              "    box-shadow: 0 1px 2px rgba(60, 64, 67, 0.3), 0 1px 3px 1px rgba(60, 64, 67, 0.15);\n",
              "    fill: var(--button-hover-fill-color);\n",
              "  }\n",
              "\n",
              "  .colab-df-quickchart-complete:disabled,\n",
              "  .colab-df-quickchart-complete:disabled:hover {\n",
              "    background-color: var(--disabled-bg-color);\n",
              "    fill: var(--disabled-fill-color);\n",
              "    box-shadow: none;\n",
              "  }\n",
              "\n",
              "  .colab-df-spinner {\n",
              "    border: 2px solid var(--fill-color);\n",
              "    border-color: transparent;\n",
              "    border-bottom-color: var(--fill-color);\n",
              "    animation:\n",
              "      spin 1s steps(1) infinite;\n",
              "  }\n",
              "\n",
              "  @keyframes spin {\n",
              "    0% {\n",
              "      border-color: transparent;\n",
              "      border-bottom-color: var(--fill-color);\n",
              "      border-left-color: var(--fill-color);\n",
              "    }\n",
              "    20% {\n",
              "      border-color: transparent;\n",
              "      border-left-color: var(--fill-color);\n",
              "      border-top-color: var(--fill-color);\n",
              "    }\n",
              "    30% {\n",
              "      border-color: transparent;\n",
              "      border-left-color: var(--fill-color);\n",
              "      border-top-color: var(--fill-color);\n",
              "      border-right-color: var(--fill-color);\n",
              "    }\n",
              "    40% {\n",
              "      border-color: transparent;\n",
              "      border-right-color: var(--fill-color);\n",
              "      border-top-color: var(--fill-color);\n",
              "    }\n",
              "    60% {\n",
              "      border-color: transparent;\n",
              "      border-right-color: var(--fill-color);\n",
              "    }\n",
              "    80% {\n",
              "      border-color: transparent;\n",
              "      border-right-color: var(--fill-color);\n",
              "      border-bottom-color: var(--fill-color);\n",
              "    }\n",
              "    90% {\n",
              "      border-color: transparent;\n",
              "      border-bottom-color: var(--fill-color);\n",
              "    }\n",
              "  }\n",
              "</style>\n",
              "\n",
              "      <script>\n",
              "        async function quickchart(key) {\n",
              "          const quickchartButtonEl =\n",
              "            document.querySelector('#' + key + ' button');\n",
              "          quickchartButtonEl.disabled = true;  // To prevent multiple clicks.\n",
              "          quickchartButtonEl.classList.add('colab-df-spinner');\n",
              "          try {\n",
              "            const charts = await google.colab.kernel.invokeFunction(\n",
              "                'suggestCharts', [key], {});\n",
              "          } catch (error) {\n",
              "            console.error('Error during call to suggestCharts:', error);\n",
              "          }\n",
              "          quickchartButtonEl.classList.remove('colab-df-spinner');\n",
              "          quickchartButtonEl.classList.add('colab-df-quickchart-complete');\n",
              "        }\n",
              "        (() => {\n",
              "          let quickchartButtonEl =\n",
              "            document.querySelector('#df-338ffa76-9e38-47b0-9893-57c0e19e4083 button');\n",
              "          quickchartButtonEl.style.display =\n",
              "            google.colab.kernel.accessAllowed ? 'block' : 'none';\n",
              "        })();\n",
              "      </script>\n",
              "    </div>\n",
              "\n",
              "  <div id=\"id_39910f82-d5e5-4c32-961e-2589f528652a\">\n",
              "    <style>\n",
              "      .colab-df-generate {\n",
              "        background-color: #E8F0FE;\n",
              "        border: none;\n",
              "        border-radius: 50%;\n",
              "        cursor: pointer;\n",
              "        display: none;\n",
              "        fill: #1967D2;\n",
              "        height: 32px;\n",
              "        padding: 0 0 0 0;\n",
              "        width: 32px;\n",
              "      }\n",
              "\n",
              "      .colab-df-generate:hover {\n",
              "        background-color: #E2EBFA;\n",
              "        box-shadow: 0px 1px 2px rgba(60, 64, 67, 0.3), 0px 1px 3px 1px rgba(60, 64, 67, 0.15);\n",
              "        fill: #174EA6;\n",
              "      }\n",
              "\n",
              "      [theme=dark] .colab-df-generate {\n",
              "        background-color: #3B4455;\n",
              "        fill: #D2E3FC;\n",
              "      }\n",
              "\n",
              "      [theme=dark] .colab-df-generate:hover {\n",
              "        background-color: #434B5C;\n",
              "        box-shadow: 0px 1px 3px 1px rgba(0, 0, 0, 0.15);\n",
              "        filter: drop-shadow(0px 1px 2px rgba(0, 0, 0, 0.3));\n",
              "        fill: #FFFFFF;\n",
              "      }\n",
              "    </style>\n",
              "    <button class=\"colab-df-generate\" onclick=\"generateWithVariable('summary_df')\"\n",
              "            title=\"Generate code using this dataframe.\"\n",
              "            style=\"display:none;\">\n",
              "\n",
              "  <svg xmlns=\"http://www.w3.org/2000/svg\" height=\"24px\"viewBox=\"0 0 24 24\"\n",
              "       width=\"24px\">\n",
              "    <path d=\"M7,19H8.4L18.45,9,17,7.55,7,17.6ZM5,21V16.75L18.45,3.32a2,2,0,0,1,2.83,0l1.4,1.43a1.91,1.91,0,0,1,.58,1.4,1.91,1.91,0,0,1-.58,1.4L9.25,21ZM18.45,9,17,7.55Zm-12,3A5.31,5.31,0,0,0,4.9,8.1,5.31,5.31,0,0,0,1,6.5,5.31,5.31,0,0,0,4.9,4.9,5.31,5.31,0,0,0,6.5,1,5.31,5.31,0,0,0,8.1,4.9,5.31,5.31,0,0,0,12,6.5,5.46,5.46,0,0,0,6.5,12Z\"/>\n",
              "  </svg>\n",
              "    </button>\n",
              "    <script>\n",
              "      (() => {\n",
              "      const buttonEl =\n",
              "        document.querySelector('#id_39910f82-d5e5-4c32-961e-2589f528652a button.colab-df-generate');\n",
              "      buttonEl.style.display =\n",
              "        google.colab.kernel.accessAllowed ? 'block' : 'none';\n",
              "\n",
              "      buttonEl.onclick = () => {\n",
              "        google.colab.notebook.generateWithVariable('summary_df');\n",
              "      }\n",
              "      })();\n",
              "    </script>\n",
              "  </div>\n",
              "\n",
              "    </div>\n",
              "  </div>\n"
            ],
            "application/vnd.google.colaboratory.intrinsic+json": {
              "type": "dataframe",
              "variable_name": "summary_df",
              "summary": "{\n  \"name\": \"summary_df\",\n  \"rows\": 4,\n  \"fields\": [\n    {\n      \"column\": \"object\",\n      \"properties\": {\n        \"dtype\": \"string\",\n        \"num_unique_values\": 4,\n        \"samples\": [\n          \"grid\",\n          \"transistor\",\n          \"cable\"\n        ],\n        \"semantic_type\": \"\",\n        \"description\": \"\"\n      }\n    },\n    {\n      \"column\": \"accuracy\",\n      \"properties\": {\n        \"dtype\": \"number\",\n        \"std\": 0.16913185191835783,\n        \"min\": 0.387,\n        \"max\": 0.714,\n        \"num_unique_values\": 4,\n        \"samples\": [\n          0.449,\n          0.714,\n          0.387\n        ],\n        \"semantic_type\": \"\",\n        \"description\": \"\"\n      }\n    },\n    {\n      \"column\": \"precision_defect\",\n      \"properties\": {\n        \"dtype\": \"number\",\n        \"std\": 0.1275731816122286,\n        \"min\": 0.171,\n        \"max\": 0.478,\n        \"num_unique_values\": 4,\n        \"samples\": [\n          0.171,\n          0.308,\n          0.274\n        ],\n        \"semantic_type\": \"\",\n        \"description\": \"\"\n      }\n    },\n    {\n      \"column\": \"recall_defect\",\n      \"properties\": {\n        \"dtype\": \"number\",\n        \"std\": 0.2129575466299954,\n        \"min\": 0.579,\n        \"max\": 1.0,\n        \"num_unique_values\": 4,\n        \"samples\": [\n          0.636,\n          1.0,\n          0.944\n        ],\n        \"semantic_type\": \"\",\n        \"description\": \"\"\n      }\n    },\n    {\n      \"column\": \"f1_defect\",\n      \"properties\": {\n        \"dtype\": \"number\",\n        \"std\": 0.109882892208023,\n        \"min\": 0.269,\n        \"max\": 0.524,\n        \"num_unique_values\": 4,\n        \"samples\": [\n          0.269,\n          0.471,\n          0.425\n        ],\n        \"semantic_type\": \"\",\n        \"description\": \"\"\n      }\n    }\n  ]\n}"
            }
          },
          "metadata": {}
        }
      ],
      "source": [
        "# Cell 13 – Summary of all object results\n",
        "\n",
        "import pandas as pd\n",
        "\n",
        "summary_df = pd.DataFrame(results)\n",
        "summary_df = summary_df[[\"object\", \"accuracy\", \"precision_defect\", \"recall_defect\", \"f1_defect\"]]\n",
        "summary_df = summary_df.sort_values(by=\"object\").reset_index(drop=True)\n",
        "\n",
        "# Round for clarity\n",
        "summary_df[[\"accuracy\", \"precision_defect\", \"recall_defect\", \"f1_defect\"]] = summary_df[\n",
        "    [\"accuracy\", \"precision_defect\", \"recall_defect\", \"f1_defect\"]\n",
        "].round(3)\n",
        "\n",
        "# Display summary\n",
        "print(\"Summary of VQC-1 Performance by Object:\")\n",
        "display(summary_df)\n",
        "\n",
        "# Save to CSV\n",
        "summary_df.to_csv(\"vqc1_summary_results.csv\", index=False)\n"
      ]
    },
    {
      "cell_type": "code",
      "source": [
        "# Cell 14 – Threshold Sweep for VQC-1 (Defect Detection Performance)\n",
        "from sklearn.metrics import precision_recall_fscore_support\n",
        "\n",
        "# Set object to evaluate (e.g., \"grid\", \"transistor\", etc.)\n",
        "obj = \"grid\"\n",
        "y_pred_test = all_preds[obj]\n",
        "y_test = all_truths[obj]\n",
        "\n",
        "# Sanity check\n",
        "assert len(y_pred_test) == len(y_test), f\"Mismatch: y_pred_test={len(y_pred_test)}, y_test={len(y_test)}\"\n",
        "\n",
        "thresholds = np.arange(0.3, 0.8, 0.05)\n",
        "f1_scores_defect = []\n",
        "\n",
        "for t in thresholds:\n",
        "    preds = (y_pred_test > t).astype(int)\n",
        "    _, _, f1, _ = precision_recall_fscore_support(y_test, preds, zero_division=0)\n",
        "    f1_scores_defect.append(f1[1])\n",
        "\n",
        "plt.plot(thresholds, f1_scores_defect, marker='o')\n",
        "plt.xlabel(\"Threshold\")\n",
        "plt.ylabel(\"F1 Score (Defect Class)\")\n",
        "plt.title(f\"VQC-1 Threshold Tuning – {obj.upper()}\")\n",
        "plt.grid(True)\n",
        "plt.show()\n",
        "\n",
        "best_t = thresholds[np.argmax(f1_scores_defect)]\n",
        "print(f\"Best threshold for defect detection ({obj}): {best_t:.2f} with F1 = {max(f1_scores_defect):.3f}\")\n"
      ],
      "metadata": {
        "colab": {
          "base_uri": "https://localhost:8080/",
          "height": 489
        },
        "id": "TXiVYftfQ3Ys",
        "outputId": "5af92ad2-86ad-4a57-f878-46eba3582d12"
      },
      "execution_count": 189,
      "outputs": [
        {
          "output_type": "display_data",
          "data": {
            "text/plain": [
              "<Figure size 640x480 with 1 Axes>"
            ],
            "image/png": "[encoded data removed]"
          },
          "metadata": {}
        },
        {
          "output_type": "stream",
          "name": "stdout",
          "text": [
            "Best threshold for defect detection (grid): 0.40 with F1 = 0.339\n"
          ]
        }
      ]
    },
    {
      "cell_type": "code",
      "source": [
        "# Cell 15 – VQC-1 Evaluation Using Best Threshold (0.50)\n",
        "\n",
        "# Apply best threshold found from tuning\n",
        "y_pred_label_best = (y_pred_test > 0.50).astype(int)\n",
        "\n",
        "# Print updated report\n",
        "from sklearn.metrics import classification_report\n",
        "print(\"VQC-1 Final Evaluation (Threshold = 0.50)\")\n",
        "print(classification_report(y_test, y_pred_label_best, target_names=[\"good\", \"defect\"]))"
      ],
      "metadata": {
        "colab": {
          "base_uri": "https://localhost:8080/"
        },
        "id": "4-b2wUV7RMmL",
        "outputId": "c6024fe7-0f86-4a62-b74f-e6ff6bb806e1"
      },
      "execution_count": 190,
      "outputs": [
        {
          "output_type": "stream",
          "name": "stdout",
          "text": [
            "VQC-1 Final Evaluation (Threshold = 0.50)\n",
            "              precision    recall  f1-score   support\n",
            "\n",
            "        good       0.86      0.41      0.56        58\n",
            "      defect       0.17      0.64      0.27        11\n",
            "\n",
            "    accuracy                           0.45        69\n",
            "   macro avg       0.51      0.53      0.41        69\n",
            "weighted avg       0.75      0.45      0.51        69\n",
            "\n"
          ]
        }
      ]
    },
    {
      "cell_type": "code",
      "execution_count": 191,
      "metadata": {
        "colab": {
          "base_uri": "https://localhost:8080/"
        },
        "id": "06TtPiDMCm8O",
        "outputId": "2ca09edb-612e-47b7-f3c6-53de2d93c3da"
      },
      "outputs": [
        {
          "output_type": "stream",
          "name": "stdout",
          "text": [
            "[METAL_NUT] Evaluation at default threshold 0.5:\n",
            "              precision    recall  f1-score   support\n",
            "\n",
            "           0       0.82      0.75      0.78        48\n",
            "           1       0.48      0.58      0.52        19\n",
            "\n",
            "    accuracy                           0.70        67\n",
            "   macro avg       0.65      0.66      0.65        67\n",
            "weighted avg       0.72      0.70      0.71        67\n",
            "\n"
          ]
        }
      ],
      "source": [
        "# Cell 16 – Evaluation for specific object\n",
        "from sklearn.metrics import classification_report\n",
        "\n",
        "obj = \"metal_nut\"  # or \"grid\", \"cable\", \"transistor\"\n",
        "y_pred_test = all_preds[obj]\n",
        "y_test = all_truths[obj]\n",
        "\n",
        "print(f\"[{obj.upper()}] Evaluation at default threshold 0.5:\")\n",
        "print(classification_report(y_test, (y_pred_test > 0.5).astype(int)))"
      ]
    },
    {
      "cell_type": "code",
      "execution_count": 192,
      "metadata": {
        "colab": {
          "base_uri": "https://localhost:8080/"
        },
        "id": "71-4-LWvFb13",
        "outputId": "3b507192-44c4-43a2-9b2b-7935e1f53c8d"
      },
      "outputs": [
        {
          "output_type": "stream",
          "name": "stdout",
          "text": [
            "{np.int64(0): np.int64(48), np.int64(1): np.int64(19)}\n"
          ]
        }
      ],
      "source": [
        "# Cell 17\n",
        "import numpy as np\n",
        "unique, counts = np.unique(y_test, return_counts=True)\n",
        "print(dict(zip(unique, counts)))"
      ]
    },
    {
      "cell_type": "code",
      "execution_count": 203,
      "metadata": {
        "colab": {
          "base_uri": "https://localhost:8080/"
        },
        "id": "Vv8c8fcMFiFw",
        "outputId": "e959431e-1f60-4edd-8173-f5ab8246ac1a"
      },
      "outputs": [
        {
          "output_type": "stream",
          "name": "stdout",
          "text": [
            "Epoch 1: Loss = 0.7972, Accuracy = 0.500\n",
            "Epoch 2: Loss = 0.7622, Accuracy = 0.500\n",
            "Epoch 3: Loss = 0.7270, Accuracy = 0.500\n",
            "Epoch 4: Loss = 0.6966, Accuracy = 0.500\n",
            "Epoch 5: Loss = 0.6783, Accuracy = 0.508\n",
            "Epoch 6: Loss = 0.6659, Accuracy = 0.624\n",
            "Epoch 7: Loss = 0.6528, Accuracy = 0.657\n",
            "Epoch 8: Loss = 0.6387, Accuracy = 0.701\n",
            "Epoch 9: Loss = 0.6269, Accuracy = 0.675\n",
            "Epoch 10: Loss = 0.6188, Accuracy = 0.680\n",
            "Epoch 11: Loss = 0.6118, Accuracy = 0.716\n",
            "Epoch 12: Loss = 0.6040, Accuracy = 0.722\n",
            "Epoch 13: Loss = 0.5961, Accuracy = 0.698\n",
            "Epoch 14: Loss = 0.5891, Accuracy = 0.691\n",
            "Epoch 15: Loss = 0.5838, Accuracy = 0.711\n",
            "\n",
            "Test set evaluation:\n",
            "              precision    recall  f1-score   support\n",
            "\n",
            "           0       0.70      0.62      0.66        48\n",
            "           1       0.25      0.32      0.28        19\n",
            "\n",
            "    accuracy                           0.54        67\n",
            "   macro avg       0.47      0.47      0.47        67\n",
            "weighted avg       0.57      0.54      0.55        67\n",
            "\n"
          ]
        }
      ],
      "source": [
        "# Cell 18\n",
        "from sklearn.utils import resample\n",
        "\n",
        "# Convert to numpy for resampling\n",
        "X_np = X_train\n",
        "y_np = y_train\n",
        "\n",
        "# Split into class 0 and class 1\n",
        "X_pos = X_np[y_np == 1]\n",
        "X_neg = X_np[y_np == 0]\n",
        "\n",
        "# Oversample minority class\n",
        "X_pos_upsampled, y_pos_upsampled = resample(\n",
        "    X_pos, np.ones(len(X_pos)),\n",
        "    replace=True,\n",
        "    n_samples=len(X_neg),\n",
        "    random_state=42\n",
        ")\n",
        "\n",
        "# Combine and shuffle\n",
        "X_balanced = np.vstack([X_neg, X_pos_upsampled])\n",
        "y_balanced = np.hstack([np.zeros(len(X_neg)), y_pos_upsampled])\n",
        "perm = np.random.permutation(len(y_balanced))\n",
        "\n",
        "# Standardize again\n",
        "X_balanced_std = scaler.fit_transform(X_balanced)\n",
        "\n",
        "# Convert to tensors\n",
        "X_train_torch = torch.tensor(X_balanced_std[perm], dtype=torch.float32)\n",
        "y_train_torch = torch.tensor(y_balanced[perm], dtype=torch.float32).unsqueeze(1)\n",
        "\n",
        "# Retrain\n",
        "model = HybridClassifier()\n",
        "optimizer = optim.Adam(model.parameters(), lr=0.1)\n",
        "loss_fn = nn.BCELoss()\n",
        "\n",
        "for epoch in range(15):\n",
        "    optimizer.zero_grad()\n",
        "    y_pred = model(X_train_torch)\n",
        "    loss = loss_fn(y_pred, y_train_torch)\n",
        "    loss.backward()\n",
        "    optimizer.step()\n",
        "    acc = ((y_pred > 0.5).float() == y_train_torch).float().mean()\n",
        "    print(f\"Epoch {epoch+1}: Loss = {loss.item():.4f}, Accuracy = {acc.item():.3f}\")\n",
        "\n",
        "# Evaluate on test set\n",
        "X_test_torch = torch.tensor(X_test, dtype=torch.float32)  # use the correct matching test set\n",
        "with torch.no_grad():\n",
        "    y_pred_test = model(X_test_torch).squeeze().numpy()\n",
        "    y_pred_label = (y_pred_test > 0.5).astype(int)\n",
        "\n",
        "print(\"\\nTest set evaluation:\")\n",
        "print(classification_report(y_test.astype(int), y_pred_label))"
      ]
    },
    {
      "cell_type": "code",
      "execution_count": 195,
      "metadata": {
        "colab": {
          "base_uri": "https://localhost:8080/",
          "height": 663
        },
        "id": "rMNg8-W1FuIS",
        "outputId": "2717553f-18ff-4878-90c0-069469eada9d"
      },
      "outputs": [
        {
          "output_type": "stream",
          "name": "stdout",
          "text": [
            "SVM training time: 0.06 seconds\n",
            "SVM Performance:\n",
            "              precision    recall  f1-score   support\n",
            "\n",
            "           0       0.80      0.69      0.74        48\n",
            "           1       0.42      0.58      0.49        19\n",
            "\n",
            "    accuracy                           0.66        67\n",
            "   macro avg       0.61      0.63      0.62        67\n",
            "weighted avg       0.70      0.66      0.67        67\n",
            "\n"
          ]
        },
        {
          "output_type": "display_data",
          "data": {
            "text/plain": [
              "<Figure size 640x480 with 2 Axes>"
            ],
            "image/png": "[encoded data removed]"
          },
          "metadata": {}
        }
      ],
      "source": [
        "# Cell 19 – Classical Baseline (SVM)\n",
        "from sklearn.svm import SVC\n",
        "from sklearn.metrics import classification_report, confusion_matrix, ConfusionMatrixDisplay\n",
        "import matplotlib.pyplot as plt\n",
        "import time\n",
        "\n",
        "# Train classical SVM on original (imbalanced) dataset\n",
        "clf = SVC(kernel='rbf', probability=True, random_state=42)\n",
        "\n",
        "start_time = time.time()\n",
        "clf.fit(X_train, y_train)\n",
        "end_time = time.time()\n",
        "print(f\"SVM training time: {end_time - start_time:.2f} seconds\")\n",
        "\n",
        "# Evaluate\n",
        "y_pred_svm = clf.predict(X_test)\n",
        "print(\"SVM Performance:\")\n",
        "print(classification_report(y_test, y_pred_svm))\n",
        "\n",
        "# Confusion Matrix\n",
        "cm = confusion_matrix(y_test, y_pred_svm)\n",
        "disp = ConfusionMatrixDisplay(confusion_matrix=cm, display_labels=[\"Normal\", \"Defect\"])\n",
        "disp.plot(cmap=\"Oranges\")\n",
        "plt.title(\"SVM – Confusion Matrix\")\n",
        "plt.show()"
      ]
    },
    {
      "cell_type": "code",
      "source": [
        "# Cell 20 – Classical SVM with Class Balancing\n",
        "from sklearn.svm import SVC\n",
        "\n",
        "# Train balanced SVM using already scaled inputs\n",
        "svm_balanced = SVC(kernel='linear', class_weight='balanced')\n",
        "svm_balanced.fit(X_train, y_train)\n",
        "\n",
        "y_pred_balanced = svm_balanced.predict(X_test)\n",
        "\n",
        "print(\"[SVM Balanced] Test set evaluation:\")\n",
        "print(classification_report(y_test, y_pred_balanced))"
      ],
      "metadata": {
        "colab": {
          "base_uri": "https://localhost:8080/"
        },
        "id": "sM-gBdpBJd30",
        "outputId": "dbdf4c2c-5c58-4a0f-b28a-cd4f2fb84094"
      },
      "execution_count": 196,
      "outputs": [
        {
          "output_type": "stream",
          "name": "stdout",
          "text": [
            "[SVM Balanced] Test set evaluation:\n",
            "              precision    recall  f1-score   support\n",
            "\n",
            "           0       0.72      0.27      0.39        48\n",
            "           1       0.29      0.74      0.41        19\n",
            "\n",
            "    accuracy                           0.40        67\n",
            "   macro avg       0.50      0.50      0.40        67\n",
            "weighted avg       0.60      0.40      0.40        67\n",
            "\n"
          ]
        }
      ]
    },
    {
      "cell_type": "code",
      "execution_count": 197,
      "metadata": {
        "id": "L8pFLCpmGVgZ"
      },
      "outputs": [],
      "source": [
        "# Cell 21\n",
        "from pennylane.qnn import TorchLayer\n",
        "\n",
        "# Define second circuit with fewer parameters\n",
        "@qml.qnode(dev, interface=\"torch\")\n",
        "def qnode_custom(inputs, weights):\n",
        "    qml.AngleEmbedding(inputs, wires=range(n_qubits), rotation='Y')\n",
        "    for i in range(n_qubits):\n",
        "        qml.RY(weights[i], wires=i)\n",
        "    for i in range(n_qubits - 1):\n",
        "        qml.CNOT(wires=[i, i + 1])\n",
        "    return qml.expval(qml.PauliZ(0))\n",
        "\n",
        "# Setup new TorchLayer (only 4 RY angles)\n",
        "custom_weight_shapes = {\"weights\": (n_qubits,)}\n",
        "qlayer_custom = TorchLayer(qnode_custom, custom_weight_shapes)\n",
        "\n",
        "# Define matching model architecture\n",
        "class CustomQuantumClassifier(nn.Module):\n",
        "    def __init__(self):\n",
        "        super().__init__()\n",
        "        self.quantum = qlayer_custom\n",
        "        self.fc = nn.Sequential(\n",
        "            nn.Linear(1, 1),\n",
        "            nn.Sigmoid()\n",
        "        )\n",
        "\n",
        "    def forward(self, x):\n",
        "        x = self.quantum(x)\n",
        "        return self.fc(x.unsqueeze(1))"
      ]
    },
    {
      "cell_type": "code",
      "execution_count": 198,
      "metadata": {
        "colab": {
          "base_uri": "https://localhost:8080/"
        },
        "id": "lpi8AtudH8-e",
        "outputId": "c2efb16c-2e97-4b99-b72f-555d999f8a74"
      },
      "outputs": [
        {
          "output_type": "stream",
          "name": "stdout",
          "text": [
            "\n",
            "Training Custom Circuit (VQC-2)...\n",
            "[VQC-2] Epoch 1: Loss = 0.7548, Accuracy = 0.500\n",
            "[VQC-2] Epoch 2: Loss = 0.7279, Accuracy = 0.500\n",
            "[VQC-2] Epoch 3: Loss = 0.7070, Accuracy = 0.515\n",
            "[VQC-2] Epoch 4: Loss = 0.6923, Accuracy = 0.549\n",
            "[VQC-2] Epoch 5: Loss = 0.6840, Accuracy = 0.603\n",
            "[VQC-2] Epoch 6: Loss = 0.6810, Accuracy = 0.572\n",
            "[VQC-2] Epoch 7: Loss = 0.6819, Accuracy = 0.546\n",
            "[VQC-2] Epoch 8: Loss = 0.6847, Accuracy = 0.495\n",
            "[VQC-2] Epoch 9: Loss = 0.6875, Accuracy = 0.500\n",
            "[VQC-2] Epoch 10: Loss = 0.6892, Accuracy = 0.500\n",
            "[VQC-2] Epoch 11: Loss = 0.6893, Accuracy = 0.500\n",
            "[VQC-2] Epoch 12: Loss = 0.6879, Accuracy = 0.500\n",
            "[VQC-2] Epoch 13: Loss = 0.6853, Accuracy = 0.500\n",
            "[VQC-2] Epoch 14: Loss = 0.6820, Accuracy = 0.472\n",
            "[VQC-2] Epoch 15: Loss = 0.6786, Accuracy = 0.518\n",
            "[VQC-2] Training time: 0.31 seconds\n",
            "\n",
            "[Custom Circuit] Test set evaluation:\n",
            "              precision    recall  f1-score   support\n",
            "\n",
            "           0       0.71      0.88      0.79        48\n",
            "           1       0.25      0.11      0.15        19\n",
            "\n",
            "    accuracy                           0.66        67\n",
            "   macro avg       0.48      0.49      0.47        67\n",
            "weighted avg       0.58      0.66      0.60        67\n",
            "\n"
          ]
        }
      ],
      "source": [
        "# Cell 22\n",
        "print(\"\\nTraining Custom Circuit (VQC-2)...\")\n",
        "\n",
        "model_custom = CustomQuantumClassifier()\n",
        "train_model(model_custom, X_train_torch, y_train_torch, name=\"VQC-2\")\n",
        "\n",
        "# Evaluate\n",
        "with torch.no_grad():\n",
        "    y_pred_test_custom = model_custom(X_test_torch).squeeze().numpy()\n",
        "    y_pred_label_custom = (y_pred_test_custom > 0.5).astype(int)\n",
        "\n",
        "print(\"\\n[Custom Circuit] Test set evaluation:\")\n",
        "print(classification_report(y_test, y_pred_label_custom))"
      ]
    },
    {
      "cell_type": "code",
      "execution_count": 199,
      "metadata": {
        "id": "FCvzUDDQH-lK",
        "colab": {
          "base_uri": "https://localhost:8080/"
        },
        "outputId": "e2913826-c072-4095-d5b6-95f30c4a309e"
      },
      "outputs": [
        {
          "output_type": "stream",
          "name": "stdout",
          "text": [
            "\n",
            "[Custom Circuit] Evaluation with threshold > 0.6:\n",
            "              precision    recall  f1-score   support\n",
            "\n",
            "           0       0.72      1.00      0.83        48\n",
            "           1       0.00      0.00      0.00        19\n",
            "\n",
            "    accuracy                           0.72        67\n",
            "   macro avg       0.36      0.50      0.42        67\n",
            "weighted avg       0.51      0.72      0.60        67\n",
            "\n"
          ]
        },
        {
          "output_type": "stream",
          "name": "stderr",
          "text": [
            "/usr/local/lib/python3.11/dist-packages/sklearn/metrics/_classification.py:1565: UndefinedMetricWarning: Precision is ill-defined and being set to 0.0 in labels with no predicted samples. Use `zero_division` parameter to control this behavior.\n",
            "  _warn_prf(average, modifier, f\"{metric.capitalize()} is\", len(result))\n",
            "/usr/local/lib/python3.11/dist-packages/sklearn/metrics/_classification.py:1565: UndefinedMetricWarning: Precision is ill-defined and being set to 0.0 in labels with no predicted samples. Use `zero_division` parameter to control this behavior.\n",
            "  _warn_prf(average, modifier, f\"{metric.capitalize()} is\", len(result))\n",
            "/usr/local/lib/python3.11/dist-packages/sklearn/metrics/_classification.py:1565: UndefinedMetricWarning: Precision is ill-defined and being set to 0.0 in labels with no predicted samples. Use `zero_division` parameter to control this behavior.\n",
            "  _warn_prf(average, modifier, f\"{metric.capitalize()} is\", len(result))\n"
          ]
        }
      ],
      "source": [
        "# Cell 23 – Final Evaluation (threshold = 0.6)\n",
        "alt_threshold = 0.6\n",
        "y_pred_label_custom_alt = (y_pred_test_custom > alt_threshold).astype(int)\n",
        "\n",
        "print(f\"\\n[Custom Circuit] Evaluation with threshold > {alt_threshold}:\")\n",
        "print(classification_report(y_test, y_pred_label_custom_alt))"
      ]
    },
    {
      "cell_type": "code",
      "source": [
        "# Cell 24 – Threshold Sensitivity Plot\n",
        "from sklearn.metrics import f1_score\n",
        "\n",
        "thresholds = np.arange(0.3, 0.8, 0.05)\n",
        "f1_scores = [\n",
        "    f1_score(y_test, (y_pred_test_custom > t).astype(int))\n",
        "    for t in thresholds\n",
        "]\n",
        "\n",
        "plt.plot(thresholds, f1_scores, marker='o')\n",
        "plt.xlabel(\"Threshold\")\n",
        "plt.ylabel(\"F1 Score\")\n",
        "plt.title(\"Threshold Sensitivity (Custom Circuit)\")\n",
        "plt.grid(True)\n",
        "plt.show()"
      ],
      "metadata": {
        "colab": {
          "base_uri": "https://localhost:8080/",
          "height": 472
        },
        "id": "jS4DmXtMIjVr",
        "outputId": "cd5cbaff-cc2e-42a0-e93f-396b9741a039"
      },
      "execution_count": 200,
      "outputs": [
        {
          "output_type": "display_data",
          "data": {
            "text/plain": [
              "<Figure size 640x480 with 1 Axes>"
            ],
            "image/png": "[encoded data removed]"
          },
          "metadata": {}
        }
      ]
    },
    {
      "cell_type": "code",
      "source": [],
      "metadata": {
        "id": "3VKhqEJXJVA7"
      },
      "execution_count": 200,
      "outputs": []
    }
  ],
  "metadata": {
    "accelerator": "GPU",
    "colab": {
      "gpuType": "T4",
      "provenance": []
    },
    "kernelspec": {
      "display_name": "Python 3",
      "name": "python3"
    },
    "language_info": {
      "name": "python"
    }
  },
  "nbformat": 4,
  "nbformat_minor": 0
}